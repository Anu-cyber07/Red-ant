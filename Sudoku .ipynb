{
 "cells": [
  {
   "cell_type": "code",
   "execution_count": 1,
   "metadata": {},
   "outputs": [],
   "source": [
    "def print_board(board):\n",
    "    '''Prints the board'''\n",
    "    boardString = \"\"\n",
    "    for i in range(9):\n",
    "        for j in range(9):\n",
    "            boardString += str(board[i][j]) + \" \"\n",
    "            if (j+1)%3 == 0 and j != 0 and (j+1) != 9:\n",
    "                boardString += \"| \"\n",
    "\n",
    "            if j == 8:\n",
    "                boardString += \"\\n\"\n",
    "\n",
    "            if j == 8 and (i+1)%3 == 0 and (i+1) != 9:\n",
    "                boardString += \"- - - - - - - - - - - \\n\"\n",
    "    print(boardString)"
   ]
  },
  {
   "cell_type": "code",
   "execution_count": 2,
   "metadata": {},
   "outputs": [],
   "source": [
    "def find_empty (board):\n",
    "    '''Finds an empty cell and returns its position as a tuple'''\n",
    "    for i in range (9):\n",
    "        for j in range (9):\n",
    "            if board[i][j] == 0:\n",
    "                return i,j"
   ]
  },
  {
   "cell_type": "code",
   "execution_count": 3,
   "metadata": {},
   "outputs": [],
   "source": [
    "def valid(board, pos, num):\n",
    "    '''Whether a number is valid in that cell, returns a bool'''\n",
    "    for i in range(9):\n",
    "        if board[i][pos[1]] == num and (i, pos[1]) != pos:  #make sure it isn't the same number we're checking for by comparing coords\n",
    "            return False\n",
    "\n",
    "    for j in range(9):\n",
    "        if board[pos[0]][j] == num and (pos[0], j) != pos:  #Same row but not same number\n",
    "            return False\n",
    "\n",
    "    start_i = pos[0] - pos[0] % 3 #ex. 5-5%3 = 3 and thats where the grid starts\n",
    "    start_j = pos[1] - pos[1] % 3\n",
    "    for i in range(3):\n",
    "        for j in range(3):  #adds i and j as needed to go from start of grid to where we need to be\n",
    "            if board[start_i + i][start_j + j] == num and (start_i + i, start_j + j) != pos:\n",
    "                return False\n",
    "    return True"
   ]
  },
  {
   "cell_type": "code",
   "execution_count": 4,
   "metadata": {},
   "outputs": [],
   "source": [
    "def solve(board):\n",
    "    '''Solves the Sudoku board via the backtracking algorithm'''\n",
    "    empty = find_empty(board)\n",
    "    if not empty: #no empty spots are left so the board is solved\n",
    "        return True\n",
    "\n",
    "    for nums in range(9):\n",
    "        if valid(board, empty,nums+1):\n",
    "            board[empty[0]][empty[1]] = nums+1\n",
    "\n",
    "            if solve(board): #recursive step\n",
    "                return True\n",
    "            board[empty[0]][empty[1]] = 0 #this number is wrong so we set it back to 0\n",
    "    return False"
   ]
  },
  {
   "cell_type": "code",
   "execution_count": 11,
   "metadata": {},
   "outputs": [
    {
     "name": "stdout",
     "output_type": "stream",
     "text": [
      "Enter the no of input numbers : 19\n",
      "Enter Row No. to change :0\n",
      "Enter Column No. to change :7\n",
      "Enter the new number2\n",
      "Enter Row No. to change :1\n",
      "Enter Column No. to change :1\n",
      "Enter the new number8\n",
      "Enter Row No. to change :1\n",
      "Enter Column No. to change :5\n",
      "Enter the new number7\n",
      "Enter Row No. to change :1\n",
      "Enter Column No. to change :8\n",
      "Enter the new number9\n",
      "Enter Row No. to change :2\n",
      "Enter Column No. to change :1\n",
      "Enter the new number6\n",
      "Enter Row No. to change :2\n",
      "Enter Column No. to change :2\n",
      "Enter the new number2\n",
      "Enter Row No. to change :2\n",
      "Enter Column No. to change :7\n",
      "Enter the new number5\n",
      "Enter Row No. to change :3\n",
      "Enter Column No. to change :2\n",
      "Enter the new number7\n",
      "Enter Row No. to change :3\n",
      "Enter Column No. to change :5\n",
      "Enter the new number6\n",
      "Enter Row No. to change :4\n",
      "Enter Column No. to change :3\n",
      "Enter the new number9\n",
      "Enter Row No. to change :4\n",
      "Enter Column No. to change :5\n",
      "Enter the new number1\n",
      "Enter Row No. to change :5\n",
      "Enter Column No. to change :4\n",
      "Enter the new number2\n",
      "Enter Row No. to change :5\n",
      "Enter Column No. to change :8\n",
      "Enter the new number4\n",
      "Enter Row No. to change :6\n",
      "Enter Column No. to change :2\n",
      "Enter the new number5\n",
      "Enter Row No. to change :6\n",
      "Enter Column No. to change :6\n",
      "Enter the new number6\n",
      "Enter Row No. to change :6\n",
      "Enter Column No. to change :8\n",
      "Enter the new number3\n",
      "Enter Row No. to change :7\n",
      "Enter Column No. to change :1\n",
      "Enter the new number9\n",
      "Enter Row No. to change :7\n",
      "Enter Column No. to change :3\n",
      "Enter the new number4\n",
      "Enter Row No. to change :7\n",
      "Enter Column No. to change :7\n",
      "Enter the new number7\n"
     ]
    }
   ],
   "source": [
    "if __name__ == '__main__':\n",
    "    board =  [\n",
    "        [0, 0, 0, 0, 0, 0, 0, 0, 0],\n",
    "        [0, 0, 0, 0, 0, 0, 0, 0, 0],\n",
    "        [0, 0, 0, 0, 0, 0, 0, 0, 0],\n",
    "        [0, 0, 0, 0, 0, 0, 0, 0, 0],\n",
    "        [0, 0, 0, 0, 0, 0, 0, 0, 0],\n",
    "        [0, 0, 0, 0, 0, 0, 0, 0, 0],\n",
    "        [0, 0, 0, 0, 0, 0, 0, 0, 0],\n",
    "        [0, 0, 0, 0, 0, 0, 0, 0, 0],\n",
    "        [0, 0, 0, 0, 0, 0, 0, 0, 0]\n",
    "    ]\n",
    "    #Cathy Input Board\n",
    "    number = int(input(\"Enter the no of input numbers : \"))\n",
    "    for i in range(number):\n",
    "        row = int(input('Enter Row No. to change :'))\n",
    "        column = int(input('Enter Column No. to change :'))\n",
    "        board[row][column] = int(input('Enter the new number in ',row, ' and ',column))\n",
    "    print(board)\n",
    "    "
   ]
  },
  {
   "cell_type": "code",
   "execution_count": 13,
   "metadata": {},
   "outputs": [
    {
     "name": "stdout",
     "output_type": "stream",
     "text": [
      "1 3 9 | 5 6 4 | 8 2 7 \n",
      "5 8 4 | 2 1 7 | 3 6 9 \n",
      "7 6 2 | 3 8 9 | 4 5 1 \n",
      "- - - - - - - - - - - \n",
      "3 1 7 | 8 4 6 | 2 9 5 \n",
      "2 4 8 | 9 5 1 | 7 3 6 \n",
      "9 5 6 | 7 2 3 | 1 8 4 \n",
      "- - - - - - - - - - - \n",
      "8 7 5 | 1 9 2 | 6 4 3 \n",
      "6 9 1 | 4 3 8 | 5 7 2 \n",
      "4 2 3 | 6 7 5 | 9 1 8 \n",
      "\n"
     ]
    }
   ],
   "source": [
    "solve(board)\n",
    "print_board(board)"
   ]
  },
  {
   "cell_type": "code",
   "execution_count": null,
   "metadata": {},
   "outputs": [],
   "source": []
  },
  {
   "cell_type": "code",
   "execution_count": null,
   "metadata": {},
   "outputs": [],
   "source": []
  },
  {
   "cell_type": "code",
   "execution_count": null,
   "metadata": {},
   "outputs": [],
   "source": []
  }
 ],
 "metadata": {
  "kernelspec": {
   "display_name": "Python 3",
   "language": "python",
   "name": "python3"
  },
  "language_info": {
   "codemirror_mode": {
    "name": "ipython",
    "version": 3
   },
   "file_extension": ".py",
   "mimetype": "text/x-python",
   "name": "python",
   "nbconvert_exporter": "python",
   "pygments_lexer": "ipython3",
   "version": "3.8.5"
  }
 },
 "nbformat": 4,
 "nbformat_minor": 4
}
